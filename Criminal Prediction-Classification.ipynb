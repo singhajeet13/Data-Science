{
 "cells": [
  {
   "cell_type": "code",
   "execution_count": 1,
   "metadata": {
    "collapsed": true
   },
   "outputs": [],
   "source": [
    "import os\n",
    "import pandas as pd\n",
    "import numpy as np\n",
    "import matplotlib.pyplot as plt\n",
    "import seaborn as sns"
   ]
  },
  {
   "cell_type": "markdown",
   "metadata": {},
   "source": [
    "# 1- Set the Working directory"
   ]
  },
  {
   "cell_type": "code",
   "execution_count": 2,
   "metadata": {},
   "outputs": [
    {
     "data": {
      "text/plain": [
       "'/Users/ajeet/Data Science Projects'"
      ]
     },
     "execution_count": 2,
     "metadata": {},
     "output_type": "execute_result"
    }
   ],
   "source": [
    "os.getcwd()"
   ]
  },
  {
   "cell_type": "code",
   "execution_count": 3,
   "metadata": {
    "collapsed": true
   },
   "outputs": [],
   "source": [
    "os.chdir(\"/Users/ajeet/Desktop/Task\")"
   ]
  },
  {
   "cell_type": "code",
   "execution_count": 4,
   "metadata": {},
   "outputs": [
    {
     "data": {
      "text/plain": [
       "'/Users/ajeet/Desktop/Task'"
      ]
     },
     "execution_count": 4,
     "metadata": {},
     "output_type": "execute_result"
    }
   ],
   "source": [
    "os.getcwd()"
   ]
  },
  {
   "cell_type": "code",
   "execution_count": 5,
   "metadata": {},
   "outputs": [
    {
     "name": "stdout",
     "output_type": "stream",
     "text": [
      "criminal_test.csv      criminal_train.csv     sample_submission.csv\r\n"
     ]
    }
   ],
   "source": [
    "ls"
   ]
  },
  {
   "cell_type": "markdown",
   "metadata": {},
   "source": [
    "# 2- Load the Data"
   ]
  },
  {
   "cell_type": "code",
   "execution_count": 6,
   "metadata": {
    "collapsed": true
   },
   "outputs": [],
   "source": [
    "dataset = pd.read_csv(\"criminal_train.csv\")"
   ]
  },
  {
   "cell_type": "code",
   "execution_count": 7,
   "metadata": {
    "scrolled": true
   },
   "outputs": [
    {
     "data": {
      "text/plain": [
       "(45718, 72)"
      ]
     },
     "execution_count": 7,
     "metadata": {},
     "output_type": "execute_result"
    }
   ],
   "source": [
    "dataset.shape"
   ]
  },
  {
   "cell_type": "code",
   "execution_count": 8,
   "metadata": {
    "scrolled": false
   },
   "outputs": [
    {
     "data": {
      "text/html": [
       "<div>\n",
       "<style>\n",
       "    .dataframe thead tr:only-child th {\n",
       "        text-align: right;\n",
       "    }\n",
       "\n",
       "    .dataframe thead th {\n",
       "        text-align: left;\n",
       "    }\n",
       "\n",
       "    .dataframe tbody tr th {\n",
       "        vertical-align: top;\n",
       "    }\n",
       "</style>\n",
       "<table border=\"1\" class=\"dataframe\">\n",
       "  <thead>\n",
       "    <tr style=\"text-align: right;\">\n",
       "      <th></th>\n",
       "      <th>PERID</th>\n",
       "      <th>IFATHER</th>\n",
       "      <th>NRCH17_2</th>\n",
       "      <th>IRHHSIZ2</th>\n",
       "      <th>IIHHSIZ2</th>\n",
       "      <th>IRKI17_2</th>\n",
       "      <th>IIKI17_2</th>\n",
       "      <th>IRHH65_2</th>\n",
       "      <th>IIHH65_2</th>\n",
       "      <th>PRXRETRY</th>\n",
       "      <th>...</th>\n",
       "      <th>TOOLONG</th>\n",
       "      <th>TROUBUND</th>\n",
       "      <th>PDEN10</th>\n",
       "      <th>COUTYP2</th>\n",
       "      <th>MAIIN102</th>\n",
       "      <th>AIIND102</th>\n",
       "      <th>ANALWT_C</th>\n",
       "      <th>VESTR</th>\n",
       "      <th>VEREP</th>\n",
       "      <th>Criminal</th>\n",
       "    </tr>\n",
       "  </thead>\n",
       "  <tbody>\n",
       "    <tr>\n",
       "      <th>0</th>\n",
       "      <td>25095143</td>\n",
       "      <td>4</td>\n",
       "      <td>2</td>\n",
       "      <td>4</td>\n",
       "      <td>1</td>\n",
       "      <td>3</td>\n",
       "      <td>1</td>\n",
       "      <td>1</td>\n",
       "      <td>1</td>\n",
       "      <td>99</td>\n",
       "      <td>...</td>\n",
       "      <td>1</td>\n",
       "      <td>2</td>\n",
       "      <td>1</td>\n",
       "      <td>1</td>\n",
       "      <td>2</td>\n",
       "      <td>2</td>\n",
       "      <td>3884.805998</td>\n",
       "      <td>40026</td>\n",
       "      <td>1</td>\n",
       "      <td>0</td>\n",
       "    </tr>\n",
       "    <tr>\n",
       "      <th>1</th>\n",
       "      <td>13005143</td>\n",
       "      <td>4</td>\n",
       "      <td>1</td>\n",
       "      <td>3</td>\n",
       "      <td>1</td>\n",
       "      <td>2</td>\n",
       "      <td>1</td>\n",
       "      <td>1</td>\n",
       "      <td>1</td>\n",
       "      <td>99</td>\n",
       "      <td>...</td>\n",
       "      <td>2</td>\n",
       "      <td>2</td>\n",
       "      <td>2</td>\n",
       "      <td>3</td>\n",
       "      <td>2</td>\n",
       "      <td>2</td>\n",
       "      <td>1627.108106</td>\n",
       "      <td>40015</td>\n",
       "      <td>2</td>\n",
       "      <td>1</td>\n",
       "    </tr>\n",
       "    <tr>\n",
       "      <th>2</th>\n",
       "      <td>67415143</td>\n",
       "      <td>4</td>\n",
       "      <td>1</td>\n",
       "      <td>2</td>\n",
       "      <td>1</td>\n",
       "      <td>2</td>\n",
       "      <td>1</td>\n",
       "      <td>1</td>\n",
       "      <td>1</td>\n",
       "      <td>99</td>\n",
       "      <td>...</td>\n",
       "      <td>2</td>\n",
       "      <td>2</td>\n",
       "      <td>2</td>\n",
       "      <td>3</td>\n",
       "      <td>2</td>\n",
       "      <td>2</td>\n",
       "      <td>4344.957980</td>\n",
       "      <td>40024</td>\n",
       "      <td>1</td>\n",
       "      <td>0</td>\n",
       "    </tr>\n",
       "    <tr>\n",
       "      <th>3</th>\n",
       "      <td>70925143</td>\n",
       "      <td>4</td>\n",
       "      <td>0</td>\n",
       "      <td>2</td>\n",
       "      <td>1</td>\n",
       "      <td>1</td>\n",
       "      <td>1</td>\n",
       "      <td>1</td>\n",
       "      <td>1</td>\n",
       "      <td>99</td>\n",
       "      <td>...</td>\n",
       "      <td>2</td>\n",
       "      <td>2</td>\n",
       "      <td>1</td>\n",
       "      <td>1</td>\n",
       "      <td>2</td>\n",
       "      <td>2</td>\n",
       "      <td>792.521931</td>\n",
       "      <td>40027</td>\n",
       "      <td>1</td>\n",
       "      <td>0</td>\n",
       "    </tr>\n",
       "    <tr>\n",
       "      <th>4</th>\n",
       "      <td>75235143</td>\n",
       "      <td>1</td>\n",
       "      <td>0</td>\n",
       "      <td>6</td>\n",
       "      <td>1</td>\n",
       "      <td>4</td>\n",
       "      <td>1</td>\n",
       "      <td>1</td>\n",
       "      <td>1</td>\n",
       "      <td>99</td>\n",
       "      <td>...</td>\n",
       "      <td>2</td>\n",
       "      <td>2</td>\n",
       "      <td>2</td>\n",
       "      <td>2</td>\n",
       "      <td>2</td>\n",
       "      <td>2</td>\n",
       "      <td>1518.118526</td>\n",
       "      <td>40001</td>\n",
       "      <td>2</td>\n",
       "      <td>0</td>\n",
       "    </tr>\n",
       "  </tbody>\n",
       "</table>\n",
       "<p>5 rows × 72 columns</p>\n",
       "</div>"
      ],
      "text/plain": [
       "      PERID  IFATHER  NRCH17_2  IRHHSIZ2  IIHHSIZ2  IRKI17_2  IIKI17_2  \\\n",
       "0  25095143        4         2         4         1         3         1   \n",
       "1  13005143        4         1         3         1         2         1   \n",
       "2  67415143        4         1         2         1         2         1   \n",
       "3  70925143        4         0         2         1         1         1   \n",
       "4  75235143        1         0         6         1         4         1   \n",
       "\n",
       "   IRHH65_2  IIHH65_2  PRXRETRY    ...     TOOLONG  TROUBUND  PDEN10  COUTYP2  \\\n",
       "0         1         1        99    ...           1         2       1        1   \n",
       "1         1         1        99    ...           2         2       2        3   \n",
       "2         1         1        99    ...           2         2       2        3   \n",
       "3         1         1        99    ...           2         2       1        1   \n",
       "4         1         1        99    ...           2         2       2        2   \n",
       "\n",
       "   MAIIN102  AIIND102     ANALWT_C  VESTR  VEREP  Criminal  \n",
       "0         2         2  3884.805998  40026      1         0  \n",
       "1         2         2  1627.108106  40015      2         1  \n",
       "2         2         2  4344.957980  40024      1         0  \n",
       "3         2         2   792.521931  40027      1         0  \n",
       "4         2         2  1518.118526  40001      2         0  \n",
       "\n",
       "[5 rows x 72 columns]"
      ]
     },
     "execution_count": 8,
     "metadata": {},
     "output_type": "execute_result"
    }
   ],
   "source": [
    "dataset.head()"
   ]
  },
  {
   "cell_type": "markdown",
   "metadata": {},
   "source": [
    "data description:"
   ]
  },
  {
   "cell_type": "markdown",
   "metadata": {},
   "source": [
    "Variable Name\tDescription\n",
    "\n",
    "PERID\tPerson ID\n",
    "\n",
    "IFATHER\t    FATHER IN HOUSEHOLD\n",
    "\n",
    "NRCH17_2\tRECODED # R's CHILDREN < 18 IN HOUSEHOLD\n",
    "\n",
    "IRHHSIZ2\tRECODE - IMPUTATION-REVISED # PERSONS IN HH\n",
    "\n",
    "IIHHSIZ2\tIMPUTATION INDICATOR\n",
    "\n",
    "IRKI17_2\tIMPUTATION-REVISED # KIDS AGED<18 IN HH\n",
    "\n",
    "IIKI17_2\tIRKI17_2-IMPUTATION INDICATOR\n",
    "\n",
    "IRHH65_2\tREC - IMPUTATION-REVISED # OF PER IN HH AGED>=65\n",
    "\n",
    "IIHH65_2\tIRHH65_2-IMPUTATION INDICATOR\n",
    "\n",
    "PRXRETRY\tSELECTED PROXY UNAVAILABLE, OTHER PROXY AVAILABLE?\n",
    "\n",
    "PRXYDATA\tIS PROXY ANSWERING INSURANCE/INCOME QS\n",
    "\n",
    "MEDICARE\tCOVERED BY MEDICARE\n",
    "\n",
    "CAIDCHIP\tCOVERED BY MEDICAID/CHIP\n",
    "\n",
    "CHAMPUS\tCOV BY TRICARE, CHAMPUS, CHAMPVA, VA, MILITARY\n",
    "\n",
    "PRVHLTIN\tCOVERED BY PRIVATE INSURANCE\n",
    "\n",
    "GRPHLTIN\tPRIVATE PLAN OFFERED THROUGH EMPLOYER OR UNION\n",
    "\n",
    "HLTINNOS\tCOVERED BY HEALTH INSUR\n",
    "\n",
    "HLCNOTYR\tANYTIME DID NOT HAVE HEALTH INS/COVER PAST 12 MOS\n",
    "\n",
    "HLCNOTMO\tPAST 12 MOS, HOW MANY MOS W/O COVERAGE\n",
    "\n",
    "HLCLAST\tTIME SINCE LAST HAD HEALTH CARE COVERAGE\n",
    "\n",
    "HLLOSRSN\tMAIN REASON STOPPED COVERED BY HEALTH INSURANCE\n",
    "\n",
    "HLNVCOST\tCOST TOO HIGH\n",
    "\n",
    "HLNVOFFR\tEMPLOYER DOESN'T OFFER\n",
    "\n",
    "HLNVREF\t   INSURANCE COMPANY REFUSED COVERAGE\n",
    "\n",
    "HLNVNEED\tDON'T NEED IT\n",
    "\n",
    "HLNVSOR\t   NEVER HAD HLTH INS SOME OTHER REASON\n",
    "\n",
    "IRMCDCHP\tIMPUTATION REVISED CAIDCHIP\n",
    "\n",
    "IIMCDCHP\tMEDICAID/CHIP - IMPUTATION INDICATOR\n",
    "\n",
    "IRMEDICR\tMEDICARE - IMPUTATION REVISED\n",
    "\n",
    "IIMEDICR\tMEDICARE - IMPUTATION INDICATOR\n",
    "\n",
    "IRCHMPUS\tCHAMPUS - IMPUTATION REVISED\n",
    "\n",
    "IICHMPUS\tCHAMPUS - IMPUTATION INDICATOR\n",
    "\n",
    "IRPRVHLT\tPRIVATE HEALTH INSURANCE - IMPUTATION REVISED\n",
    "\n",
    "IIPRVHLT\tPRIVATE HEALTH INSURANCE - IMPUTATION INDICATOR\n",
    "\n",
    "IROTHHLT\tOTHER HEALTH INSURANCE - IMPUTATION REVISED\n",
    "\n",
    "IIOTHHLT\tOTHER HEALTH INSURANCE - IMPUTATION INDICATOR\n",
    "\n",
    "HLCALLFG\tFLAG IF EVERY FORM OF HEALTH INS REPORTED\n",
    "\n",
    "HLCALL99\tYES TO MEDICARE/MEDICAID/CHAMPUS/PRVHLTIN\n",
    "\n",
    "ANYHLTI2\tCOVERED BY ANY HEALTH INSURANCE - RECODE\n",
    "\n",
    "IRINSUR4\tRC-OVERALL HEALTH INSURANCE - IMPUTATION REVISED\n",
    "\n",
    "IIINSUR4\tRC-OVERALL HEALTH INSURANCE - IMPUTATION INDICATOR\n",
    "\n",
    "OTHINS\t    RC-OTHER HEALTH INSURANCE\n",
    "\n",
    "CELLNOTCL\tNOT A CELL PHONE\n",
    "\n",
    "CELLWRKNG\tWORKING CELL PHONE\n",
    "\n",
    "IRFAMSOC\tFAM RECEIVE SS OR RR PAYMENTS - IMPUTATION REVISED\n",
    "\n",
    "IIFAMSOC\tFAM RECEIVE SS OR RR PAYMENTS - IMPUTATION INDICATOR\n",
    "\n",
    "IRFAMSSI\tFAM RECEIVE SSI - IMPUTATION REVISED\n",
    "\n",
    "IIFAMSSI\tFAM RECEIVE SSI - IMPUTATION INDICATOR\n",
    "\n",
    "IRFSTAMP\tRESP/OTH FAM MEM REC FOOD STAMPS - IMPUTATION REVISED\n",
    "\n",
    "IIFSTAMP\tRESP/OTH FAM MEM REC FOOD STAMPS - IMPUTATION INDICATOR\n",
    "\n",
    "IRFAMPMT\tFAM RECEIVE PUBLIC ASSIST - IMPUTATION REVISED\n",
    "\n",
    "IIFAMPMT\tFAM RECEIVE PUBLIC ASSIST - IMPUTATION INDICATOR\n",
    "\n",
    "IRFAMSVC\tFAM REC WELFARE/JOB PL/CHILDCARE - IMPUTATION REVISED\n",
    "\n",
    "IIFAMSVC\tFAM REC WELFARE/JOB PL/CHILDCARE - IMPUTATION INDICATOR\n",
    "\n",
    "IRWELMOS\tIMP. REVISED - NO.OF MONTHS ON WELFARE\n",
    "\n",
    "IIWELMOS\tNO OF MONTHS ON WELFARE - IMPUTATION INDICATOR\n",
    "\n",
    "IRPINC3\tRESP TOT INCOME (FINER CAT) - IMP REV\n",
    "\n",
    "IRFAMIN3\tRECODE - IMP.REVISED - TOT FAM INCOME\n",
    "\n",
    "IIPINC3\tRESP TOT INCOME (FINER CAT) - IMP INDIC\n",
    "\n",
    "IIFAMIN3\tIRFAMIN3 - IMPUTATION INDICATOR\n",
    "\n",
    "GOVTPROG\tRC-PARTICIPATED IN ONE OR MORE GOVT ASSIST PROGRAMS\n",
    "\n",
    "POVERTY3\tRC-POVERTY LEVEL\n",
    "\n",
    "TOOLONG\tRESP SAID INTERVIEW WAS TOO LONG\n",
    "\n",
    "TROUBUND\tDID RESP HAVE TROUBLE UNDERSTANDING INTERVIEW\n",
    "\n",
    "PDEN10\t    POPULATION DENSITY 2010\n",
    "\n",
    "COUTYP2\t    COUNTY METRO/NONMETRO STATUS\n",
    "\n",
    "MAIIN102\tMAJORITY AMER INDIAN AREA INDICATOR FOR SEGMENT\n",
    "\n",
    "AIIND102\tAMER INDIAN AREA INDICATOR\n",
    "\n",
    "ANALWT_C\tFIN PRSN-LEVEL SIMPLE WGHT\n",
    "\n",
    "VESTR\t    ANALYSIS STRATUM\n",
    "\n",
    "VEREP\t    ANALYSIS REPLICATE\n",
    "\n",
    "Criminal\tTarget Variable"
   ]
  },
  {
   "cell_type": "code",
   "execution_count": 9,
   "metadata": {
    "scrolled": true
   },
   "outputs": [
    {
     "data": {
      "text/html": [
       "<div>\n",
       "<style>\n",
       "    .dataframe thead tr:only-child th {\n",
       "        text-align: right;\n",
       "    }\n",
       "\n",
       "    .dataframe thead th {\n",
       "        text-align: left;\n",
       "    }\n",
       "\n",
       "    .dataframe tbody tr th {\n",
       "        vertical-align: top;\n",
       "    }\n",
       "</style>\n",
       "<table border=\"1\" class=\"dataframe\">\n",
       "  <thead>\n",
       "    <tr style=\"text-align: right;\">\n",
       "      <th></th>\n",
       "      <th>PERID</th>\n",
       "      <th>IFATHER</th>\n",
       "      <th>NRCH17_2</th>\n",
       "      <th>IRHHSIZ2</th>\n",
       "      <th>IIHHSIZ2</th>\n",
       "      <th>IRKI17_2</th>\n",
       "      <th>IIKI17_2</th>\n",
       "      <th>IRHH65_2</th>\n",
       "      <th>IIHH65_2</th>\n",
       "      <th>PRXRETRY</th>\n",
       "      <th>...</th>\n",
       "      <th>TOOLONG</th>\n",
       "      <th>TROUBUND</th>\n",
       "      <th>PDEN10</th>\n",
       "      <th>COUTYP2</th>\n",
       "      <th>MAIIN102</th>\n",
       "      <th>AIIND102</th>\n",
       "      <th>ANALWT_C</th>\n",
       "      <th>VESTR</th>\n",
       "      <th>VEREP</th>\n",
       "      <th>Criminal</th>\n",
       "    </tr>\n",
       "  </thead>\n",
       "  <tbody>\n",
       "    <tr>\n",
       "      <th>count</th>\n",
       "      <td>4.571800e+04</td>\n",
       "      <td>45718.000000</td>\n",
       "      <td>45718.000000</td>\n",
       "      <td>45718.000000</td>\n",
       "      <td>45718.000000</td>\n",
       "      <td>45718.000000</td>\n",
       "      <td>45718.000000</td>\n",
       "      <td>45718.000000</td>\n",
       "      <td>45718.000000</td>\n",
       "      <td>45718.000000</td>\n",
       "      <td>...</td>\n",
       "      <td>45718.000000</td>\n",
       "      <td>45718.000000</td>\n",
       "      <td>45718.000000</td>\n",
       "      <td>45718.000000</td>\n",
       "      <td>45718.000000</td>\n",
       "      <td>45718.000000</td>\n",
       "      <td>45718.000000</td>\n",
       "      <td>45718.000000</td>\n",
       "      <td>45718.000000</td>\n",
       "      <td>45718.000000</td>\n",
       "    </tr>\n",
       "    <tr>\n",
       "      <th>mean</th>\n",
       "      <td>5.445446e+07</td>\n",
       "      <td>3.355549</td>\n",
       "      <td>0.476486</td>\n",
       "      <td>3.426375</td>\n",
       "      <td>1.001706</td>\n",
       "      <td>2.084124</td>\n",
       "      <td>1.007437</td>\n",
       "      <td>1.162606</td>\n",
       "      <td>1.011024</td>\n",
       "      <td>97.394943</td>\n",
       "      <td>...</td>\n",
       "      <td>2.219410</td>\n",
       "      <td>2.234940</td>\n",
       "      <td>1.646135</td>\n",
       "      <td>1.764666</td>\n",
       "      <td>1.978936</td>\n",
       "      <td>1.978739</td>\n",
       "      <td>4692.661179</td>\n",
       "      <td>40023.739118</td>\n",
       "      <td>1.493854</td>\n",
       "      <td>0.069447</td>\n",
       "    </tr>\n",
       "    <tr>\n",
       "      <th>std</th>\n",
       "      <td>2.553911e+07</td>\n",
       "      <td>1.176651</td>\n",
       "      <td>0.888472</td>\n",
       "      <td>1.427420</td>\n",
       "      <td>0.061314</td>\n",
       "      <td>1.102988</td>\n",
       "      <td>0.123162</td>\n",
       "      <td>0.469029</td>\n",
       "      <td>0.146444</td>\n",
       "      <td>12.355156</td>\n",
       "      <td>...</td>\n",
       "      <td>5.295784</td>\n",
       "      <td>5.293651</td>\n",
       "      <td>0.618403</td>\n",
       "      <td>0.771411</td>\n",
       "      <td>0.144510</td>\n",
       "      <td>0.145161</td>\n",
       "      <td>5724.659486</td>\n",
       "      <td>265.140430</td>\n",
       "      <td>0.500230</td>\n",
       "      <td>0.254216</td>\n",
       "    </tr>\n",
       "    <tr>\n",
       "      <th>min</th>\n",
       "      <td>1.000222e+07</td>\n",
       "      <td>-1.000000</td>\n",
       "      <td>-1.000000</td>\n",
       "      <td>-1.000000</td>\n",
       "      <td>-1.000000</td>\n",
       "      <td>-1.000000</td>\n",
       "      <td>-1.000000</td>\n",
       "      <td>-1.000000</td>\n",
       "      <td>-1.000000</td>\n",
       "      <td>-1.000000</td>\n",
       "      <td>...</td>\n",
       "      <td>-1.000000</td>\n",
       "      <td>-1.000000</td>\n",
       "      <td>-1.000000</td>\n",
       "      <td>-1.000000</td>\n",
       "      <td>-1.000000</td>\n",
       "      <td>-1.000000</td>\n",
       "      <td>-1.000000</td>\n",
       "      <td>-1.000000</td>\n",
       "      <td>-1.000000</td>\n",
       "      <td>0.000000</td>\n",
       "    </tr>\n",
       "    <tr>\n",
       "      <th>25%</th>\n",
       "      <td>3.233189e+07</td>\n",
       "      <td>4.000000</td>\n",
       "      <td>0.000000</td>\n",
       "      <td>2.000000</td>\n",
       "      <td>1.000000</td>\n",
       "      <td>1.000000</td>\n",
       "      <td>1.000000</td>\n",
       "      <td>1.000000</td>\n",
       "      <td>1.000000</td>\n",
       "      <td>99.000000</td>\n",
       "      <td>...</td>\n",
       "      <td>2.000000</td>\n",
       "      <td>2.000000</td>\n",
       "      <td>1.000000</td>\n",
       "      <td>1.000000</td>\n",
       "      <td>2.000000</td>\n",
       "      <td>2.000000</td>\n",
       "      <td>1252.396472</td>\n",
       "      <td>40013.000000</td>\n",
       "      <td>1.000000</td>\n",
       "      <td>0.000000</td>\n",
       "    </tr>\n",
       "    <tr>\n",
       "      <th>50%</th>\n",
       "      <td>5.411043e+07</td>\n",
       "      <td>4.000000</td>\n",
       "      <td>0.000000</td>\n",
       "      <td>3.000000</td>\n",
       "      <td>1.000000</td>\n",
       "      <td>2.000000</td>\n",
       "      <td>1.000000</td>\n",
       "      <td>1.000000</td>\n",
       "      <td>1.000000</td>\n",
       "      <td>99.000000</td>\n",
       "      <td>...</td>\n",
       "      <td>2.000000</td>\n",
       "      <td>2.000000</td>\n",
       "      <td>2.000000</td>\n",
       "      <td>2.000000</td>\n",
       "      <td>2.000000</td>\n",
       "      <td>2.000000</td>\n",
       "      <td>2719.335160</td>\n",
       "      <td>40025.000000</td>\n",
       "      <td>1.000000</td>\n",
       "      <td>0.000000</td>\n",
       "    </tr>\n",
       "    <tr>\n",
       "      <th>75%</th>\n",
       "      <td>7.612731e+07</td>\n",
       "      <td>4.000000</td>\n",
       "      <td>1.000000</td>\n",
       "      <td>4.000000</td>\n",
       "      <td>1.000000</td>\n",
       "      <td>3.000000</td>\n",
       "      <td>1.000000</td>\n",
       "      <td>1.000000</td>\n",
       "      <td>1.000000</td>\n",
       "      <td>99.000000</td>\n",
       "      <td>...</td>\n",
       "      <td>2.000000</td>\n",
       "      <td>2.000000</td>\n",
       "      <td>2.000000</td>\n",
       "      <td>2.000000</td>\n",
       "      <td>2.000000</td>\n",
       "      <td>2.000000</td>\n",
       "      <td>5765.810794</td>\n",
       "      <td>40039.000000</td>\n",
       "      <td>2.000000</td>\n",
       "      <td>0.000000</td>\n",
       "    </tr>\n",
       "    <tr>\n",
       "      <th>max</th>\n",
       "      <td>9.999956e+07</td>\n",
       "      <td>4.000000</td>\n",
       "      <td>3.000000</td>\n",
       "      <td>6.000000</td>\n",
       "      <td>3.000000</td>\n",
       "      <td>4.000000</td>\n",
       "      <td>3.000000</td>\n",
       "      <td>3.000000</td>\n",
       "      <td>3.000000</td>\n",
       "      <td>99.000000</td>\n",
       "      <td>...</td>\n",
       "      <td>98.000000</td>\n",
       "      <td>98.000000</td>\n",
       "      <td>3.000000</td>\n",
       "      <td>3.000000</td>\n",
       "      <td>2.000000</td>\n",
       "      <td>2.000000</td>\n",
       "      <td>109100.623000</td>\n",
       "      <td>40050.000000</td>\n",
       "      <td>2.000000</td>\n",
       "      <td>1.000000</td>\n",
       "    </tr>\n",
       "  </tbody>\n",
       "</table>\n",
       "<p>8 rows × 72 columns</p>\n",
       "</div>"
      ],
      "text/plain": [
       "              PERID       IFATHER      NRCH17_2      IRHHSIZ2      IIHHSIZ2  \\\n",
       "count  4.571800e+04  45718.000000  45718.000000  45718.000000  45718.000000   \n",
       "mean   5.445446e+07      3.355549      0.476486      3.426375      1.001706   \n",
       "std    2.553911e+07      1.176651      0.888472      1.427420      0.061314   \n",
       "min    1.000222e+07     -1.000000     -1.000000     -1.000000     -1.000000   \n",
       "25%    3.233189e+07      4.000000      0.000000      2.000000      1.000000   \n",
       "50%    5.411043e+07      4.000000      0.000000      3.000000      1.000000   \n",
       "75%    7.612731e+07      4.000000      1.000000      4.000000      1.000000   \n",
       "max    9.999956e+07      4.000000      3.000000      6.000000      3.000000   \n",
       "\n",
       "           IRKI17_2      IIKI17_2      IRHH65_2      IIHH65_2      PRXRETRY  \\\n",
       "count  45718.000000  45718.000000  45718.000000  45718.000000  45718.000000   \n",
       "mean       2.084124      1.007437      1.162606      1.011024     97.394943   \n",
       "std        1.102988      0.123162      0.469029      0.146444     12.355156   \n",
       "min       -1.000000     -1.000000     -1.000000     -1.000000     -1.000000   \n",
       "25%        1.000000      1.000000      1.000000      1.000000     99.000000   \n",
       "50%        2.000000      1.000000      1.000000      1.000000     99.000000   \n",
       "75%        3.000000      1.000000      1.000000      1.000000     99.000000   \n",
       "max        4.000000      3.000000      3.000000      3.000000     99.000000   \n",
       "\n",
       "           ...            TOOLONG      TROUBUND        PDEN10       COUTYP2  \\\n",
       "count      ...       45718.000000  45718.000000  45718.000000  45718.000000   \n",
       "mean       ...           2.219410      2.234940      1.646135      1.764666   \n",
       "std        ...           5.295784      5.293651      0.618403      0.771411   \n",
       "min        ...          -1.000000     -1.000000     -1.000000     -1.000000   \n",
       "25%        ...           2.000000      2.000000      1.000000      1.000000   \n",
       "50%        ...           2.000000      2.000000      2.000000      2.000000   \n",
       "75%        ...           2.000000      2.000000      2.000000      2.000000   \n",
       "max        ...          98.000000     98.000000      3.000000      3.000000   \n",
       "\n",
       "           MAIIN102      AIIND102       ANALWT_C         VESTR         VEREP  \\\n",
       "count  45718.000000  45718.000000   45718.000000  45718.000000  45718.000000   \n",
       "mean       1.978936      1.978739    4692.661179  40023.739118      1.493854   \n",
       "std        0.144510      0.145161    5724.659486    265.140430      0.500230   \n",
       "min       -1.000000     -1.000000      -1.000000     -1.000000     -1.000000   \n",
       "25%        2.000000      2.000000    1252.396472  40013.000000      1.000000   \n",
       "50%        2.000000      2.000000    2719.335160  40025.000000      1.000000   \n",
       "75%        2.000000      2.000000    5765.810794  40039.000000      2.000000   \n",
       "max        2.000000      2.000000  109100.623000  40050.000000      2.000000   \n",
       "\n",
       "           Criminal  \n",
       "count  45718.000000  \n",
       "mean       0.069447  \n",
       "std        0.254216  \n",
       "min        0.000000  \n",
       "25%        0.000000  \n",
       "50%        0.000000  \n",
       "75%        0.000000  \n",
       "max        1.000000  \n",
       "\n",
       "[8 rows x 72 columns]"
      ]
     },
     "execution_count": 9,
     "metadata": {},
     "output_type": "execute_result"
    }
   ],
   "source": [
    "dataset.describe()"
   ]
  },
  {
   "cell_type": "code",
   "execution_count": 10,
   "metadata": {
    "scrolled": true
   },
   "outputs": [
    {
     "data": {
      "text/plain": [
       "5"
      ]
     },
     "execution_count": 10,
     "metadata": {},
     "output_type": "execute_result"
    }
   ],
   "source": [
    "len(dataset['IFATHER'].value_counts())"
   ]
  },
  {
   "cell_type": "markdown",
   "metadata": {},
   "source": [
    "# 3- Data Type Conversion"
   ]
  },
  {
   "cell_type": "code",
   "execution_count": 11,
   "metadata": {},
   "outputs": [
    {
     "data": {
      "text/plain": [
       "PERID          int64\n",
       "IFATHER        int64\n",
       "NRCH17_2       int64\n",
       "IRHHSIZ2       int64\n",
       "IIHHSIZ2       int64\n",
       "IRKI17_2       int64\n",
       "IIKI17_2       int64\n",
       "IRHH65_2       int64\n",
       "IIHH65_2       int64\n",
       "PRXRETRY       int64\n",
       "PRXYDATA       int64\n",
       "MEDICARE       int64\n",
       "CAIDCHIP       int64\n",
       "CHAMPUS        int64\n",
       "PRVHLTIN       int64\n",
       "GRPHLTIN       int64\n",
       "HLTINNOS       int64\n",
       "HLCNOTYR       int64\n",
       "HLCNOTMO       int64\n",
       "HLCLAST        int64\n",
       "HLLOSRSN       int64\n",
       "HLNVCOST       int64\n",
       "HLNVOFFR       int64\n",
       "HLNVREF        int64\n",
       "HLNVNEED       int64\n",
       "HLNVSOR        int64\n",
       "IRMCDCHP       int64\n",
       "IIMCDCHP       int64\n",
       "IRMEDICR       int64\n",
       "IIMEDICR       int64\n",
       "              ...   \n",
       "CELLNOTCL      int64\n",
       "CELLWRKNG      int64\n",
       "IRFAMSOC       int64\n",
       "IIFAMSOC       int64\n",
       "IRFAMSSI       int64\n",
       "IIFAMSSI       int64\n",
       "IRFSTAMP       int64\n",
       "IIFSTAMP       int64\n",
       "IRFAMPMT       int64\n",
       "IIFAMPMT       int64\n",
       "IRFAMSVC       int64\n",
       "IIFAMSVC       int64\n",
       "IRWELMOS       int64\n",
       "IIWELMOS       int64\n",
       "IRPINC3        int64\n",
       "IRFAMIN3       int64\n",
       "IIPINC3        int64\n",
       "IIFAMIN3       int64\n",
       "GOVTPROG       int64\n",
       "POVERTY3       int64\n",
       "TOOLONG        int64\n",
       "TROUBUND       int64\n",
       "PDEN10         int64\n",
       "COUTYP2        int64\n",
       "MAIIN102       int64\n",
       "AIIND102       int64\n",
       "ANALWT_C     float64\n",
       "VESTR          int64\n",
       "VEREP          int64\n",
       "Criminal       int64\n",
       "Length: 72, dtype: object"
      ]
     },
     "execution_count": 11,
     "metadata": {},
     "output_type": "execute_result"
    }
   ],
   "source": [
    "dataset.dtypes"
   ]
  },
  {
   "cell_type": "markdown",
   "metadata": {
    "scrolled": false
   },
   "source": [
    "We can see that most of the variables are continuos, So first we need to identify their correct datatype and then convert into respective datatype"
   ]
  },
  {
   "cell_type": "code",
   "execution_count": 12,
   "metadata": {},
   "outputs": [
    {
     "name": "stderr",
     "output_type": "stream",
     "text": [
      "/Users/ajeet/anaconda3/lib/python3.6/site-packages/ggplot/utils.py:81: FutureWarning: pandas.tslib is deprecated and will be removed in a future version.\n",
      "You can access Timestamp as pandas.Timestamp\n",
      "  pd.tslib.Timestamp,\n",
      "/Users/ajeet/anaconda3/lib/python3.6/site-packages/ggplot/stats/smoothers.py:4: FutureWarning: The pandas.lib module is deprecated and will be removed in a future version. These are private functions and can be accessed from pandas._libs.lib instead\n",
      "  from pandas.lib import Timestamp\n",
      "/Users/ajeet/anaconda3/lib/python3.6/site-packages/statsmodels/compat/pandas.py:56: FutureWarning: The pandas.core.datetools module is deprecated and will be removed in a future version. Please use the pandas.tseries module instead.\n",
      "  from pandas.core import datetools\n"
     ]
    }
   ],
   "source": [
    "from ggplot import *\n"
   ]
  },
  {
   "cell_type": "markdown",
   "metadata": {},
   "source": [
    "To plot the dataset to visualize the count of unique values , we need to prepare the data into x-axis and y-axis format. Going to plot the bar graph between count of unique values in each of the variables. For this we will have to store the variable's name in <b><i>listOfColumns</i></b> and the count of uniques values in <b><i>numberOfLevelsInEachColumn</i></b>"
   ]
  },
  {
   "cell_type": "code",
   "execution_count": null,
   "metadata": {
    "collapsed": true
   },
   "outputs": [],
   "source": []
  },
  {
   "cell_type": "code",
   "execution_count": 13,
   "metadata": {
    "collapsed": true
   },
   "outputs": [],
   "source": [
    "numberOfLevelsInEachColumn = []\n",
    "listOfColumns = []\n",
    "\n",
    "colHavingMoreThan50UniqueVal = ()\n",
    "for i in dataset.columns:\n",
    "    count = len(dataset[i].value_counts())\n",
    "    if(count <50):\n",
    "        numberOfLevelsInEachColumn.append(count)\n",
    "        listOfColumns.append(i)\n",
    "    else:\n",
    "        newTup = (i,count)\n",
    "        colHavingMoreThan50UniqueVal = colHavingMoreThan50UniqueVal + newTup\n",
    "        \n",
    "        \n",
    "        "
   ]
  },
  {
   "cell_type": "code",
   "execution_count": 14,
   "metadata": {},
   "outputs": [
    {
     "data": {
      "text/plain": [
       "('PERID', 45718, 'ANALWT_C', 45647, 'VESTR', 51)"
      ]
     },
     "execution_count": 14,
     "metadata": {},
     "output_type": "execute_result"
    }
   ],
   "source": [
    "colHavingMoreThan50UniqueVal"
   ]
  },
  {
   "cell_type": "markdown",
   "metadata": {},
   "source": [
    "Filter these 3 values to visualize clearly\n"
   ]
  },
  {
   "cell_type": "markdown",
   "metadata": {
    "collapsed": true
   },
   "source": [
    "We can clearly see that these 3 variables(PERID, ANALWT_C, and VESTR) have approx 45k unique lavels so, these are continuous variable, So to visualize clealy we need to remove these 2 from the numberOfLevelsInEachColumn variable."
   ]
  },
  {
   "cell_type": "code",
   "execution_count": 15,
   "metadata": {},
   "outputs": [
    {
     "data": {
      "image/png": "[encoded data removed]",
      "text/plain": [
       "<matplotlib.figure.Figure at 0x112b262b0>"
      ]
     },
     "metadata": {},
     "output_type": "display_data"
    }
   ],
   "source": [
    "objects = listOfColumns\n",
    "y_pos = np.arange(len(objects))\n",
    "performance = numberOfLevelsInEachColumn\n",
    "\n",
    "plt.rcParams.update({'font.size': 22})\n",
    "plt.figure(figsize=(25,10))\n",
    "plt.bar(y_pos, performance, align='center', alpha=0.5)\n",
    "plt.xticks(y_pos, objects)\n",
    "plt.ylabel('Number of unique values')\n",
    "plt.xlabel('Independent variables')\n",
    "plt.title('Number of levels present in the dataset')\n",
    " \n",
    "plt.show()"
   ]
  },
  {
   "cell_type": "markdown",
   "metadata": {
    "collapsed": true
   },
   "source": [
    "## <font color = red><b><i>Action:</i></b></font>"
   ]
  },
  {
   "cell_type": "markdown",
   "metadata": {
    "collapsed": true
   },
   "source": [
    "We except these three variables(PERID, ANALWT_C, and VESTR), all are seems to be categorical variables, so need to be conver into categorical variable."
   ]
  },
  {
   "cell_type": "code",
   "execution_count": 16,
   "metadata": {},
   "outputs": [
    {
     "data": {
      "text/plain": [
       "0        40026\n",
       "1        40015\n",
       "2        40024\n",
       "3        40027\n",
       "4        40001\n",
       "5        40035\n",
       "6        40043\n",
       "7        40006\n",
       "8        40021\n",
       "9        40006\n",
       "10       40044\n",
       "11       40025\n",
       "12       40042\n",
       "13       40035\n",
       "14       40020\n",
       "15       40004\n",
       "16       40023\n",
       "17       40033\n",
       "18       40025\n",
       "19       40036\n",
       "20       40028\n",
       "21       40008\n",
       "22       40007\n",
       "23       40010\n",
       "24       40012\n",
       "25       40046\n",
       "26       40042\n",
       "27       40012\n",
       "28       40036\n",
       "29       40016\n",
       "         ...  \n",
       "45688    40032\n",
       "45689    40039\n",
       "45690    40017\n",
       "45691    40013\n",
       "45692    40002\n",
       "45693    40005\n",
       "45694    40041\n",
       "45695    40028\n",
       "45696    40029\n",
       "45697    40050\n",
       "45698    40019\n",
       "45699    40006\n",
       "45700    40010\n",
       "45701    40010\n",
       "45702    40049\n",
       "45703    40019\n",
       "45704    40036\n",
       "45705    40042\n",
       "45706    40037\n",
       "45707    40004\n",
       "45708    40001\n",
       "45709    40023\n",
       "45710    40049\n",
       "45711    40020\n",
       "45712    40048\n",
       "45713    40011\n",
       "45714    40035\n",
       "45715    40040\n",
       "45716    40050\n",
       "45717    40018\n",
       "Name: VESTR, Length: 45718, dtype: int64"
      ]
     },
     "execution_count": 16,
     "metadata": {},
     "output_type": "execute_result"
    }
   ],
   "source": [
    "dataset['VESTR']"
   ]
  },
  {
   "cell_type": "markdown",
   "metadata": {},
   "source": [
    "Since this variable is ANALYSIS STRATUM, means this represents the group , so it is also a categorical variable, count of this variable is 51. "
   ]
  },
  {
   "cell_type": "code",
   "execution_count": 17,
   "metadata": {},
   "outputs": [
    {
     "data": {
      "text/plain": [
       "(45718, 72)"
      ]
     },
     "execution_count": 17,
     "metadata": {},
     "output_type": "execute_result"
    }
   ],
   "source": [
    "dataset.shape"
   ]
  },
  {
   "cell_type": "code",
   "execution_count": 18,
   "metadata": {},
   "outputs": [
    {
     "data": {
      "text/plain": [
       "69"
      ]
     },
     "execution_count": 18,
     "metadata": {},
     "output_type": "execute_result"
    }
   ],
   "source": [
    "len(listOfColumns)"
   ]
  },
  {
   "cell_type": "markdown",
   "metadata": {},
   "source": [
    "because we have removed those 3 variables. Add VESTR, also in this list for conversion"
   ]
  },
  {
   "cell_type": "code",
   "execution_count": 19,
   "metadata": {
    "collapsed": true
   },
   "outputs": [],
   "source": [
    "listOfColumns.append(\"VESTR\")"
   ]
  },
  {
   "cell_type": "code",
   "execution_count": 20,
   "metadata": {},
   "outputs": [
    {
     "data": {
      "text/plain": [
       "pandas.core.frame.DataFrame"
      ]
     },
     "execution_count": 20,
     "metadata": {},
     "output_type": "execute_result"
    }
   ],
   "source": [
    "type(dataset)"
   ]
  },
  {
   "cell_type": "code",
   "execution_count": 21,
   "metadata": {
    "scrolled": true
   },
   "outputs": [
    {
     "data": {
      "text/plain": [
       "pandas.core.series.Series"
      ]
     },
     "execution_count": 21,
     "metadata": {},
     "output_type": "execute_result"
    }
   ],
   "source": [
    "type(dataset['VESTR'])"
   ]
  },
  {
   "cell_type": "markdown",
   "metadata": {},
   "source": [
    "<font color = blue>Normally the categorical variable in the python treated as non-numeric and when we need to perform encoding, we have to convert into categorical data types the apply cat.codes to encode from string into codes then again convert back into object datatype</font>"
   ]
  },
  {
   "cell_type": "code",
   "execution_count": 22,
   "metadata": {
    "collapsed": true
   },
   "outputs": [],
   "source": [
    "for variable in listOfColumns:\n",
    "    dataset[variable] = dataset[variable].astype(object)\n",
    "    "
   ]
  },
  {
   "cell_type": "code",
   "execution_count": 23,
   "metadata": {},
   "outputs": [
    {
     "data": {
      "text/plain": [
       "dtype('int64')"
      ]
     },
     "execution_count": 23,
     "metadata": {},
     "output_type": "execute_result"
    }
   ],
   "source": [
    "dataset['PERID'].dtype"
   ]
  },
  {
   "cell_type": "code",
   "execution_count": 24,
   "metadata": {},
   "outputs": [
    {
     "data": {
      "text/plain": [
       "dtype('float64')"
      ]
     },
     "execution_count": 24,
     "metadata": {},
     "output_type": "execute_result"
    }
   ],
   "source": [
    "dataset['ANALWT_C'].dtype"
   ]
  },
  {
   "cell_type": "code",
   "execution_count": 25,
   "metadata": {},
   "outputs": [
    {
     "data": {
      "text/html": [
       "<div>\n",
       "<style>\n",
       "    .dataframe thead tr:only-child th {\n",
       "        text-align: right;\n",
       "    }\n",
       "\n",
       "    .dataframe thead th {\n",
       "        text-align: left;\n",
       "    }\n",
       "\n",
       "    .dataframe tbody tr th {\n",
       "        vertical-align: top;\n",
       "    }\n",
       "</style>\n",
       "<table border=\"1\" class=\"dataframe\">\n",
       "  <thead>\n",
       "    <tr style=\"text-align: right;\">\n",
       "      <th></th>\n",
       "      <th>PERID</th>\n",
       "      <th>IFATHER</th>\n",
       "      <th>NRCH17_2</th>\n",
       "      <th>IRHHSIZ2</th>\n",
       "      <th>IIHHSIZ2</th>\n",
       "      <th>IRKI17_2</th>\n",
       "      <th>IIKI17_2</th>\n",
       "      <th>IRHH65_2</th>\n",
       "      <th>IIHH65_2</th>\n",
       "      <th>PRXRETRY</th>\n",
       "      <th>...</th>\n",
       "      <th>TOOLONG</th>\n",
       "      <th>TROUBUND</th>\n",
       "      <th>PDEN10</th>\n",
       "      <th>COUTYP2</th>\n",
       "      <th>MAIIN102</th>\n",
       "      <th>AIIND102</th>\n",
       "      <th>ANALWT_C</th>\n",
       "      <th>VESTR</th>\n",
       "      <th>VEREP</th>\n",
       "      <th>Criminal</th>\n",
       "    </tr>\n",
       "  </thead>\n",
       "  <tbody>\n",
       "    <tr>\n",
       "      <th>0</th>\n",
       "      <td>25095143</td>\n",
       "      <td>4</td>\n",
       "      <td>2</td>\n",
       "      <td>4</td>\n",
       "      <td>1</td>\n",
       "      <td>3</td>\n",
       "      <td>1</td>\n",
       "      <td>1</td>\n",
       "      <td>1</td>\n",
       "      <td>99</td>\n",
       "      <td>...</td>\n",
       "      <td>1</td>\n",
       "      <td>2</td>\n",
       "      <td>1</td>\n",
       "      <td>1</td>\n",
       "      <td>2</td>\n",
       "      <td>2</td>\n",
       "      <td>3884.805998</td>\n",
       "      <td>40026</td>\n",
       "      <td>1</td>\n",
       "      <td>0</td>\n",
       "    </tr>\n",
       "    <tr>\n",
       "      <th>1</th>\n",
       "      <td>13005143</td>\n",
       "      <td>4</td>\n",
       "      <td>1</td>\n",
       "      <td>3</td>\n",
       "      <td>1</td>\n",
       "      <td>2</td>\n",
       "      <td>1</td>\n",
       "      <td>1</td>\n",
       "      <td>1</td>\n",
       "      <td>99</td>\n",
       "      <td>...</td>\n",
       "      <td>2</td>\n",
       "      <td>2</td>\n",
       "      <td>2</td>\n",
       "      <td>3</td>\n",
       "      <td>2</td>\n",
       "      <td>2</td>\n",
       "      <td>1627.108106</td>\n",
       "      <td>40015</td>\n",
       "      <td>2</td>\n",
       "      <td>1</td>\n",
       "    </tr>\n",
       "    <tr>\n",
       "      <th>2</th>\n",
       "      <td>67415143</td>\n",
       "      <td>4</td>\n",
       "      <td>1</td>\n",
       "      <td>2</td>\n",
       "      <td>1</td>\n",
       "      <td>2</td>\n",
       "      <td>1</td>\n",
       "      <td>1</td>\n",
       "      <td>1</td>\n",
       "      <td>99</td>\n",
       "      <td>...</td>\n",
       "      <td>2</td>\n",
       "      <td>2</td>\n",
       "      <td>2</td>\n",
       "      <td>3</td>\n",
       "      <td>2</td>\n",
       "      <td>2</td>\n",
       "      <td>4344.957980</td>\n",
       "      <td>40024</td>\n",
       "      <td>1</td>\n",
       "      <td>0</td>\n",
       "    </tr>\n",
       "  </tbody>\n",
       "</table>\n",
       "<p>3 rows × 72 columns</p>\n",
       "</div>"
      ],
      "text/plain": [
       "      PERID IFATHER NRCH17_2 IRHHSIZ2 IIHHSIZ2 IRKI17_2 IIKI17_2 IRHH65_2  \\\n",
       "0  25095143       4        2        4        1        3        1        1   \n",
       "1  13005143       4        1        3        1        2        1        1   \n",
       "2  67415143       4        1        2        1        2        1        1   \n",
       "\n",
       "  IIHH65_2 PRXRETRY   ...    TOOLONG TROUBUND PDEN10 COUTYP2 MAIIN102  \\\n",
       "0        1       99   ...          1        2      1       1        2   \n",
       "1        1       99   ...          2        2      2       3        2   \n",
       "2        1       99   ...          2        2      2       3        2   \n",
       "\n",
       "  AIIND102     ANALWT_C  VESTR VEREP Criminal  \n",
       "0        2  3884.805998  40026     1        0  \n",
       "1        2  1627.108106  40015     2        1  \n",
       "2        2  4344.957980  40024     1        0  \n",
       "\n",
       "[3 rows x 72 columns]"
      ]
     },
     "execution_count": 25,
     "metadata": {},
     "output_type": "execute_result"
    }
   ],
   "source": [
    "dataset.head(3)"
   ]
  },
  {
   "cell_type": "markdown",
   "metadata": {},
   "source": [
    "Except The two variable all are of object type now"
   ]
  },
  {
   "cell_type": "code",
   "execution_count": 26,
   "metadata": {},
   "outputs": [
    {
     "name": "stdout",
     "output_type": "stream",
     "text": [
      "PERID\n",
      "ANALWT_C\n"
     ]
    }
   ],
   "source": [
    "for variable in dataset.columns:\n",
    "    if(dataset[variable].dtype != 'object'):\n",
    "        print(variable)"
   ]
  },
  {
   "cell_type": "markdown",
   "metadata": {},
   "source": [
    "# 4- Missing value Analysis"
   ]
  },
  {
   "cell_type": "code",
   "execution_count": 27,
   "metadata": {},
   "outputs": [
    {
     "name": "stdout",
     "output_type": "stream",
     "text": [
      "There is no missing values\n"
     ]
    }
   ],
   "source": [
    "\n",
    "for var in dataset.columns:\n",
    "    if(dataset[var].isnull().sum() >0):\n",
    "        print(var)\n",
    "        print(\"There is a missing value\")\n",
    "print(\"There is no missing values\")"
   ]
  },
  {
   "cell_type": "code",
   "execution_count": 28,
   "metadata": {},
   "outputs": [
    {
     "data": {
      "text/plain": [
       "(45718, 72)"
      ]
     },
     "execution_count": 28,
     "metadata": {},
     "output_type": "execute_result"
    }
   ],
   "source": [
    "dataset.shape"
   ]
  },
  {
   "cell_type": "markdown",
   "metadata": {},
   "source": [
    "If there is any missing values were present then we need to calculate the mode of the respective feature and impute the missing cell with that mode value, In case of categorical variables.\n",
    "\n",
    "And in case of continuous data, impute the value by mean/median/KNN imputation method."
   ]
  },
  {
   "cell_type": "markdown",
   "metadata": {},
   "source": [
    "# 5- Split the data into feature matrix and target variable vector"
   ]
  },
  {
   "cell_type": "markdown",
   "metadata": {},
   "source": [
    "First split the whole data into feature matrix and target variable vector"
   ]
  },
  {
   "cell_type": "code",
   "execution_count": 29,
   "metadata": {},
   "outputs": [
    {
     "data": {
      "text/plain": [
       "(45718, 72)"
      ]
     },
     "execution_count": 29,
     "metadata": {},
     "output_type": "execute_result"
    }
   ],
   "source": [
    "dataset.shape"
   ]
  },
  {
   "cell_type": "code",
   "execution_count": 30,
   "metadata": {
    "collapsed": true
   },
   "outputs": [],
   "source": [
    "X = dataset.iloc[:,1:71]\n",
    "            \n",
    "y = dataset.iloc[:,71]"
   ]
  },
  {
   "cell_type": "code",
   "execution_count": 31,
   "metadata": {
    "scrolled": true
   },
   "outputs": [
    {
     "data": {
      "text/html": [
       "<div>\n",
       "<style>\n",
       "    .dataframe thead tr:only-child th {\n",
       "        text-align: right;\n",
       "    }\n",
       "\n",
       "    .dataframe thead th {\n",
       "        text-align: left;\n",
       "    }\n",
       "\n",
       "    .dataframe tbody tr th {\n",
       "        vertical-align: top;\n",
       "    }\n",
       "</style>\n",
       "<table border=\"1\" class=\"dataframe\">\n",
       "  <thead>\n",
       "    <tr style=\"text-align: right;\">\n",
       "      <th></th>\n",
       "      <th>IFATHER</th>\n",
       "      <th>NRCH17_2</th>\n",
       "      <th>IRHHSIZ2</th>\n",
       "      <th>IIHHSIZ2</th>\n",
       "      <th>IRKI17_2</th>\n",
       "      <th>IIKI17_2</th>\n",
       "      <th>IRHH65_2</th>\n",
       "      <th>IIHH65_2</th>\n",
       "      <th>PRXRETRY</th>\n",
       "      <th>PRXYDATA</th>\n",
       "      <th>...</th>\n",
       "      <th>POVERTY3</th>\n",
       "      <th>TOOLONG</th>\n",
       "      <th>TROUBUND</th>\n",
       "      <th>PDEN10</th>\n",
       "      <th>COUTYP2</th>\n",
       "      <th>MAIIN102</th>\n",
       "      <th>AIIND102</th>\n",
       "      <th>ANALWT_C</th>\n",
       "      <th>VESTR</th>\n",
       "      <th>VEREP</th>\n",
       "    </tr>\n",
       "  </thead>\n",
       "  <tbody>\n",
       "    <tr>\n",
       "      <th>0</th>\n",
       "      <td>4</td>\n",
       "      <td>2</td>\n",
       "      <td>4</td>\n",
       "      <td>1</td>\n",
       "      <td>3</td>\n",
       "      <td>1</td>\n",
       "      <td>1</td>\n",
       "      <td>1</td>\n",
       "      <td>99</td>\n",
       "      <td>99</td>\n",
       "      <td>...</td>\n",
       "      <td>2</td>\n",
       "      <td>1</td>\n",
       "      <td>2</td>\n",
       "      <td>1</td>\n",
       "      <td>1</td>\n",
       "      <td>2</td>\n",
       "      <td>2</td>\n",
       "      <td>3884.805998</td>\n",
       "      <td>40026</td>\n",
       "      <td>1</td>\n",
       "    </tr>\n",
       "    <tr>\n",
       "      <th>1</th>\n",
       "      <td>4</td>\n",
       "      <td>1</td>\n",
       "      <td>3</td>\n",
       "      <td>1</td>\n",
       "      <td>2</td>\n",
       "      <td>1</td>\n",
       "      <td>1</td>\n",
       "      <td>1</td>\n",
       "      <td>99</td>\n",
       "      <td>99</td>\n",
       "      <td>...</td>\n",
       "      <td>1</td>\n",
       "      <td>2</td>\n",
       "      <td>2</td>\n",
       "      <td>2</td>\n",
       "      <td>3</td>\n",
       "      <td>2</td>\n",
       "      <td>2</td>\n",
       "      <td>1627.108106</td>\n",
       "      <td>40015</td>\n",
       "      <td>2</td>\n",
       "    </tr>\n",
       "  </tbody>\n",
       "</table>\n",
       "<p>2 rows × 70 columns</p>\n",
       "</div>"
      ],
      "text/plain": [
       "  IFATHER NRCH17_2 IRHHSIZ2 IIHHSIZ2 IRKI17_2 IIKI17_2 IRHH65_2 IIHH65_2  \\\n",
       "0       4        2        4        1        3        1        1        1   \n",
       "1       4        1        3        1        2        1        1        1   \n",
       "\n",
       "  PRXRETRY PRXYDATA  ...  POVERTY3 TOOLONG TROUBUND PDEN10 COUTYP2 MAIIN102  \\\n",
       "0       99       99  ...         2       1        2      1       1        2   \n",
       "1       99       99  ...         1       2        2      2       3        2   \n",
       "\n",
       "  AIIND102     ANALWT_C  VESTR VEREP  \n",
       "0        2  3884.805998  40026     1  \n",
       "1        2  1627.108106  40015     2  \n",
       "\n",
       "[2 rows x 70 columns]"
      ]
     },
     "execution_count": 31,
     "metadata": {},
     "output_type": "execute_result"
    }
   ],
   "source": [
    "X.head(2)"
   ]
  },
  {
   "cell_type": "code",
   "execution_count": 32,
   "metadata": {
    "scrolled": true
   },
   "outputs": [
    {
     "data": {
      "text/html": [
       "<div>\n",
       "<style>\n",
       "    .dataframe thead tr:only-child th {\n",
       "        text-align: right;\n",
       "    }\n",
       "\n",
       "    .dataframe thead th {\n",
       "        text-align: left;\n",
       "    }\n",
       "\n",
       "    .dataframe tbody tr th {\n",
       "        vertical-align: top;\n",
       "    }\n",
       "</style>\n",
       "<table border=\"1\" class=\"dataframe\">\n",
       "  <thead>\n",
       "    <tr style=\"text-align: right;\">\n",
       "      <th></th>\n",
       "      <th>PERID</th>\n",
       "      <th>IFATHER</th>\n",
       "      <th>NRCH17_2</th>\n",
       "      <th>IRHHSIZ2</th>\n",
       "      <th>IIHHSIZ2</th>\n",
       "      <th>IRKI17_2</th>\n",
       "      <th>IIKI17_2</th>\n",
       "      <th>IRHH65_2</th>\n",
       "      <th>IIHH65_2</th>\n",
       "      <th>PRXRETRY</th>\n",
       "      <th>...</th>\n",
       "      <th>TOOLONG</th>\n",
       "      <th>TROUBUND</th>\n",
       "      <th>PDEN10</th>\n",
       "      <th>COUTYP2</th>\n",
       "      <th>MAIIN102</th>\n",
       "      <th>AIIND102</th>\n",
       "      <th>ANALWT_C</th>\n",
       "      <th>VESTR</th>\n",
       "      <th>VEREP</th>\n",
       "      <th>Criminal</th>\n",
       "    </tr>\n",
       "  </thead>\n",
       "  <tbody>\n",
       "    <tr>\n",
       "      <th>0</th>\n",
       "      <td>25095143</td>\n",
       "      <td>4</td>\n",
       "      <td>2</td>\n",
       "      <td>4</td>\n",
       "      <td>1</td>\n",
       "      <td>3</td>\n",
       "      <td>1</td>\n",
       "      <td>1</td>\n",
       "      <td>1</td>\n",
       "      <td>99</td>\n",
       "      <td>...</td>\n",
       "      <td>1</td>\n",
       "      <td>2</td>\n",
       "      <td>1</td>\n",
       "      <td>1</td>\n",
       "      <td>2</td>\n",
       "      <td>2</td>\n",
       "      <td>3884.805998</td>\n",
       "      <td>40026</td>\n",
       "      <td>1</td>\n",
       "      <td>0</td>\n",
       "    </tr>\n",
       "    <tr>\n",
       "      <th>1</th>\n",
       "      <td>13005143</td>\n",
       "      <td>4</td>\n",
       "      <td>1</td>\n",
       "      <td>3</td>\n",
       "      <td>1</td>\n",
       "      <td>2</td>\n",
       "      <td>1</td>\n",
       "      <td>1</td>\n",
       "      <td>1</td>\n",
       "      <td>99</td>\n",
       "      <td>...</td>\n",
       "      <td>2</td>\n",
       "      <td>2</td>\n",
       "      <td>2</td>\n",
       "      <td>3</td>\n",
       "      <td>2</td>\n",
       "      <td>2</td>\n",
       "      <td>1627.108106</td>\n",
       "      <td>40015</td>\n",
       "      <td>2</td>\n",
       "      <td>1</td>\n",
       "    </tr>\n",
       "  </tbody>\n",
       "</table>\n",
       "<p>2 rows × 72 columns</p>\n",
       "</div>"
      ],
      "text/plain": [
       "      PERID IFATHER NRCH17_2 IRHHSIZ2 IIHHSIZ2 IRKI17_2 IIKI17_2 IRHH65_2  \\\n",
       "0  25095143       4        2        4        1        3        1        1   \n",
       "1  13005143       4        1        3        1        2        1        1   \n",
       "\n",
       "  IIHH65_2 PRXRETRY   ...    TOOLONG TROUBUND PDEN10 COUTYP2 MAIIN102  \\\n",
       "0        1       99   ...          1        2      1       1        2   \n",
       "1        1       99   ...          2        2      2       3        2   \n",
       "\n",
       "  AIIND102     ANALWT_C  VESTR VEREP Criminal  \n",
       "0        2  3884.805998  40026     1        0  \n",
       "1        2  1627.108106  40015     2        1  \n",
       "\n",
       "[2 rows x 72 columns]"
      ]
     },
     "execution_count": 32,
     "metadata": {},
     "output_type": "execute_result"
    }
   ],
   "source": [
    "dataset.head(2)"
   ]
  },
  {
   "cell_type": "code",
   "execution_count": 33,
   "metadata": {
    "scrolled": true
   },
   "outputs": [
    {
     "data": {
      "text/plain": [
       "0    0\n",
       "1    1\n",
       "2    0\n",
       "3    0\n",
       "4    0\n",
       "Name: Criminal, dtype: object"
      ]
     },
     "execution_count": 33,
     "metadata": {},
     "output_type": "execute_result"
    }
   ],
   "source": [
    "y.head()"
   ]
  },
  {
   "cell_type": "markdown",
   "metadata": {},
   "source": [
    "# 6- Visualization"
   ]
  },
  {
   "cell_type": "markdown",
   "metadata": {},
   "source": [
    "### 1-Distributions of observations within categories"
   ]
  },
  {
   "cell_type": "code",
   "execution_count": 34,
   "metadata": {},
   "outputs": [
    {
     "data": {
      "text/plain": [
       "<matplotlib.axes._subplots.AxesSubplot at 0x10e5db550>"
      ]
     },
     "execution_count": 34,
     "metadata": {},
     "output_type": "execute_result"
    },
    {
     "data": {
      "image/png": "[encoded data removed]",
      "text/plain": [
       "<matplotlib.figure.Figure at 0x10e5e07f0>"
      ]
     },
     "metadata": {},
     "output_type": "display_data"
    }
   ],
   "source": [
    "%matplotlib inline\n",
    "sns.boxplot(x=\"IFATHER\", y=\"ANALWT_C\", data=dataset)"
   ]
  },
  {
   "cell_type": "markdown",
   "metadata": {
    "collapsed": true
   },
   "source": [
    "# 6- Outlier Analysis"
   ]
  },
  {
   "cell_type": "markdown",
   "metadata": {},
   "source": [
    "### A) For continuous variables"
   ]
  },
  {
   "cell_type": "markdown",
   "metadata": {},
   "source": [
    "Since there is only one numeric variable , we detect the outlier and remove them."
   ]
  },
  {
   "cell_type": "markdown",
   "metadata": {},
   "source": [
    "##### BoxPlot method to detect"
   ]
  },
  {
   "cell_type": "code",
   "execution_count": 36,
   "metadata": {
    "scrolled": false
   },
   "outputs": [
    {
     "data": {
      "text/plain": [
       "{'boxes': [<matplotlib.lines.Line2D at 0x10e0afa20>],\n",
       " 'caps': [<matplotlib.lines.Line2D at 0x10e07d470>,\n",
       "  <matplotlib.lines.Line2D at 0x10e07d898>],\n",
       " 'fliers': [<matplotlib.lines.Line2D at 0x10e615128>],\n",
       " 'means': [],\n",
       " 'medians': [<matplotlib.lines.Line2D at 0x10e07dcc0>],\n",
       " 'whiskers': [<matplotlib.lines.Line2D at 0x10e0afb70>,\n",
       "  <matplotlib.lines.Line2D at 0x10e07d048>]}"
      ]
     },
     "execution_count": 36,
     "metadata": {},
     "output_type": "execute_result"
    },
    {
     "data": {
      "image/png": "[encoded data removed]",
      "text/plain": [
       "<matplotlib.figure.Figure at 0x10e5aa400>"
      ]
     },
     "metadata": {},
     "output_type": "display_data"
    }
   ],
   "source": [
    "plt.boxplot(dataset['ANALWT_C'])"
   ]
  },
  {
   "cell_type": "code",
   "execution_count": 39,
   "metadata": {},
   "outputs": [
    {
     "data": {
      "text/plain": [
       "68"
      ]
     },
     "execution_count": 39,
     "metadata": {},
     "output_type": "execute_result"
    }
   ],
   "source": [
    "dataset.columns.get_loc(\"ANALWT_C\")"
   ]
  },
  {
   "cell_type": "code",
   "execution_count": 49,
   "metadata": {},
   "outputs": [
    {
     "data": {
      "text/plain": [
       "45718"
      ]
     },
     "execution_count": 49,
     "metadata": {},
     "output_type": "execute_result"
    }
   ],
   "source": [
    "dataset.iloc[:,68].count()"
   ]
  },
  {
   "cell_type": "code",
   "execution_count": 59,
   "metadata": {},
   "outputs": [
    {
     "data": {
      "text/plain": [
       "(45718, 72)"
      ]
     },
     "execution_count": 59,
     "metadata": {},
     "output_type": "execute_result"
    }
   ],
   "source": [
    "dataset.shape"
   ]
  },
  {
   "cell_type": "code",
   "execution_count": null,
   "metadata": {
    "collapsed": true
   },
   "outputs": [],
   "source": []
  },
  {
   "cell_type": "code",
   "execution_count": 62,
   "metadata": {},
   "outputs": [
    {
     "name": "stdout",
     "output_type": "stream",
     "text": [
      "-5517.725011999999\n",
      "12535.932278\n",
      "0\n",
      "3880\n"
     ]
    }
   ],
   "source": [
    " #Detect and delete outliers from data\n",
    "\n",
    "#count = 0  \n",
    "q75, q25 = np.percentile(dataset.loc[:,\"ANALWT_C\"], [75 ,25])\n",
    "iqr = q75 - q25\n",
    "\n",
    "min = q25 - (iqr*1.5)\n",
    "max = q75 + (iqr*1.5)\n",
    "print(min)\n",
    "print(max)\n",
    "   \n",
    "print(len(dataset[dataset['ANALWT_C']<=min]))\n",
    "print(len(dataset[dataset['ANALWT_C']>=max]))\n",
    "#dataset = dataset.drop(dataset[dataset.loc[:,i] < min].index)\n",
    "#dataset = dataset.drop(dataset[dataset.loc[:,i] > max].index)"
   ]
  },
  {
   "cell_type": "markdown",
   "metadata": {},
   "source": [
    "There are total 45718 observation, after removing 3880 we have left- 45718-3880 = 41,838. Here we need to remove 8% of observation for this one we will keep safe dataset, and continue with datasetOR."
   ]
  },
  {
   "cell_type": "code",
   "execution_count": 67,
   "metadata": {
    "collapsed": true
   },
   "outputs": [],
   "source": [
    "datasetOR = dataset.copy()"
   ]
  },
  {
   "cell_type": "code",
   "execution_count": 68,
   "metadata": {},
   "outputs": [
    {
     "data": {
      "text/plain": [
       "(45718, 72)"
      ]
     },
     "execution_count": 68,
     "metadata": {},
     "output_type": "execute_result"
    }
   ],
   "source": [
    "datasetOR.shape"
   ]
  },
  {
   "cell_type": "code",
   "execution_count": 69,
   "metadata": {
    "collapsed": true
   },
   "outputs": [],
   "source": [
    "datasetOR = datasetOR[datasetOR['ANALWT_C']<=max]\n",
    "#datasetOR = datasetOR.drop(datasetOR[dataset.loc[:,\"ANALWT_C\"] > max].index)\n",
    "\n"
   ]
  },
  {
   "cell_type": "code",
   "execution_count": 70,
   "metadata": {},
   "outputs": [
    {
     "data": {
      "text/plain": [
       "(41838, 72)"
      ]
     },
     "execution_count": 70,
     "metadata": {},
     "output_type": "execute_result"
    }
   ],
   "source": [
    "datasetOR.shape"
   ]
  },
  {
   "cell_type": "code",
   "execution_count": 71,
   "metadata": {},
   "outputs": [
    {
     "data": {
      "text/plain": [
       "(45718, 72)"
      ]
     },
     "execution_count": 71,
     "metadata": {},
     "output_type": "execute_result"
    }
   ],
   "source": [
    "dataset.shape"
   ]
  },
  {
   "cell_type": "markdown",
   "metadata": {},
   "source": [
    "dataset- is safe we havent removed anything from dataset."
   ]
  },
  {
   "cell_type": "markdown",
   "metadata": {},
   "source": []
  },
  {
   "cell_type": "markdown",
   "metadata": {},
   "source": [
    "# 7- Feature Selection"
   ]
  },
  {
   "cell_type": "markdown",
   "metadata": {},
   "source": [
    "### Continuous variables"
   ]
  },
  {
   "cell_type": "markdown",
   "metadata": {},
   "source": [
    "Since there is only one continuous variable, so no need to perform correlation analysis. "
   ]
  },
  {
   "cell_type": "markdown",
   "metadata": {},
   "source": [
    "### Categorical variables"
   ]
  },
  {
   "cell_type": "code",
   "execution_count": 80,
   "metadata": {},
   "outputs": [
    {
     "data": {
      "text/plain": [
       "dtype('O')"
      ]
     },
     "execution_count": 80,
     "metadata": {},
     "output_type": "execute_result"
    }
   ],
   "source": [
    "datasetOR.iloc[:,2].dtype"
   ]
  },
  {
   "cell_type": "code",
   "execution_count": 81,
   "metadata": {
    "scrolled": true
   },
   "outputs": [
    {
     "data": {
      "text/plain": [
       "72"
      ]
     },
     "execution_count": 81,
     "metadata": {},
     "output_type": "execute_result"
    }
   ],
   "source": [
    "#Total number of columns\n",
    "len(datasetOR.columns)"
   ]
  },
  {
   "cell_type": "markdown",
   "metadata": {},
   "source": [
    "there are only 2 continuous variable so there should be 70 categorical variables"
   ]
  },
  {
   "cell_type": "code",
   "execution_count": 86,
   "metadata": {
    "collapsed": true
   },
   "outputs": [],
   "source": [
    "#store all categorical variable in a list\n",
    "cat_names = []\n",
    "for var in datasetOR.columns:\n",
    "    if(datasetOR[var].dtype == 'object'):\n",
    "        cat_names.append(var)\n",
    "    \n",
    "    \n",
    "    "
   ]
  },
  {
   "cell_type": "markdown",
   "metadata": {},
   "source": [
    "Also remove the target variable from the list"
   ]
  },
  {
   "cell_type": "code",
   "execution_count": 92,
   "metadata": {
    "collapsed": true
   },
   "outputs": [],
   "source": [
    "cat_names.remove(\"Criminal\")"
   ]
  },
  {
   "cell_type": "code",
   "execution_count": 93,
   "metadata": {
    "scrolled": true
   },
   "outputs": [
    {
     "data": {
      "text/plain": [
       "69"
      ]
     },
     "execution_count": 93,
     "metadata": {},
     "output_type": "execute_result"
    }
   ],
   "source": [
    "len(cat_names)"
   ]
  },
  {
   "cell_type": "code",
   "execution_count": 94,
   "metadata": {
    "scrolled": true
   },
   "outputs": [
    {
     "data": {
      "text/plain": [
       "'VEREP'"
      ]
     },
     "execution_count": 94,
     "metadata": {},
     "output_type": "execute_result"
    }
   ],
   "source": [
    "cat_names[-1]"
   ]
  },
  {
   "cell_type": "code",
   "execution_count": null,
   "metadata": {
    "collapsed": true
   },
   "outputs": [],
   "source": []
  },
  {
   "cell_type": "markdown",
   "metadata": {},
   "source": [
    "##### Apply Chi-square test of variable independance"
   ]
  },
  {
   "cell_type": "code",
   "execution_count": 96,
   "metadata": {
    "scrolled": false
   },
   "outputs": [
    {
     "name": "stdout",
     "output_type": "stream",
     "text": [
      "IFATHER\n",
      "1.1365417552402857e-80\n",
      "NRCH17_2\n",
      "5.062617307601705e-82\n",
      "IRHHSIZ2\n",
      "5.29223732019932e-32\n",
      "IIHHSIZ2\n",
      "0.5682250872739691\n",
      "IRKI17_2\n",
      "2.229436812047486e-12\n",
      "IIKI17_2\n",
      "0.5500429064567407\n",
      "IRHH65_2\n",
      "5.1269111603838625e-71\n",
      "IIHH65_2\n",
      "0.6726939145180273\n",
      "PRXRETRY\n",
      "0.7683652759234985\n",
      "PRXYDATA\n",
      "1.9403952443510532e-17\n",
      "MEDICARE\n",
      "4.784554839468574e-136\n",
      "CAIDCHIP\n",
      "5.672221737932961e-89\n",
      "CHAMPUS\n",
      "1.8663314333222418e-15\n",
      "PRVHLTIN\n",
      "0.0\n",
      "GRPHLTIN\n",
      "0.0\n",
      "HLTINNOS\n",
      "9.768070249613017e-101\n",
      "HLCNOTYR\n",
      "1.546626562029899e-103\n",
      "HLCNOTMO\n",
      "1.087057426217784e-24\n",
      "HLCLAST\n",
      "7.39946286402968e-92\n",
      "HLLOSRSN\n",
      "1.76794020306204e-70\n",
      "HLNVCOST\n",
      "3.7750262386411783e-34\n",
      "HLNVOFFR\n",
      "3.7750262386411783e-34\n",
      "HLNVREF\n",
      "3.7750262386411783e-34\n",
      "HLNVNEED\n",
      "3.7750262386411783e-34\n",
      "HLNVSOR\n",
      "3.7750262386411783e-34\n",
      "IRMCDCHP\n",
      "5.170075006148051e-63\n",
      "IIMCDCHP\n",
      "9.288483077260503e-23\n",
      "IRMEDICR\n",
      "3.890229481521732e-126\n",
      "IIMEDICR\n",
      "1.624585788714875e-13\n",
      "IRCHMPUS\n",
      "0.008244634264268592\n",
      "IICHMPUS\n",
      "1.1235060100042039e-14\n",
      "IRPRVHLT\n",
      "0.0\n",
      "IIPRVHLT\n",
      "1.5913042188845614e-105\n",
      "IROTHHLT\n",
      "5.98649728093572e-97\n",
      "IIOTHHLT\n",
      "2.208197118337278e-124\n",
      "HLCALLFG\n",
      "6.601359085360082e-11\n",
      "HLCALL99\n",
      "6.601359085360082e-11\n",
      "ANYHLTI2\n",
      "1.085839625969172e-96\n",
      "IRINSUR4\n",
      "1.01304714616455e-71\n",
      "IIINSUR4\n",
      "3.76662725646282e-26\n",
      "OTHINS\n",
      "1.2613347511447852e-17\n",
      "CELLNOTCL\n",
      "0.03995262909191307\n",
      "CELLWRKNG\n",
      "7.638225856349251e-10\n",
      "IRFAMSOC\n",
      "3.316387914902215e-64\n",
      "IIFAMSOC\n",
      "1.4626137499729182e-07\n",
      "IRFAMSSI\n",
      "0.6925793907101128\n",
      "IIFAMSSI\n",
      "5.347714462868998e-13\n",
      "IRFSTAMP\n",
      "0.5881599076507616\n",
      "IIFSTAMP\n",
      "0.00011420243504834036\n",
      "IRFAMPMT\n",
      "0.643841736392105\n",
      "IIFAMPMT\n",
      "1.3693306027338443e-10\n",
      "IRFAMSVC\n",
      "0.8939434253706444\n",
      "IIFAMSVC\n",
      "1.2351989748868782e-12\n",
      "IRWELMOS\n",
      "0.10403033998153546\n",
      "IIWELMOS\n",
      "4.646204594081104e-12\n",
      "IRPINC3\n",
      "2.3369945149540743e-155\n",
      "IRFAMIN3\n",
      "0.0\n",
      "IIPINC3\n",
      "1.3151064238328749e-05\n",
      "IIFAMIN3\n",
      "1.2667980661608687e-11\n",
      "GOVTPROG\n",
      "0.8841159491594262\n",
      "POVERTY3\n",
      "0.0\n",
      "TOOLONG\n",
      "0.05433502514702604\n",
      "TROUBUND\n",
      "5.5569596941761785e-05\n",
      "PDEN10\n",
      "3.1607013516361233e-12\n",
      "COUTYP2\n",
      "8.617565852020383e-11\n",
      "MAIIN102\n",
      "0.930407360266719\n",
      "AIIND102\n",
      "0.9130368783638704\n",
      "VESTR\n",
      "0.005535617499723689\n",
      "VEREP\n",
      "0.11160885067103277\n"
     ]
    }
   ],
   "source": [
    "#loop for chi square values, store all columns which have p-value > 0.05\n",
    "colHavGreaterPVal = []\n",
    "from scipy.stats import chi2_contingency\n",
    "for i in cat_names:\n",
    "    print(i)\n",
    "    chi2, p, dof, ex = chi2_contingency(pd.crosstab(datasetOR['Criminal'], datasetOR[i]))\n",
    "    print(p)\n",
    "    if(p>0.05):\n",
    "         colHavGreaterPVal.append(i) "
   ]
  },
  {
   "cell_type": "code",
   "execution_count": 97,
   "metadata": {},
   "outputs": [
    {
     "data": {
      "text/plain": [
       "14"
      ]
     },
     "execution_count": 97,
     "metadata": {},
     "output_type": "execute_result"
    }
   ],
   "source": [
    "len( colHavGreaterPVal)"
   ]
  },
  {
   "cell_type": "markdown",
   "metadata": {},
   "source": [
    "Since all the variables which has p>0.05(Accept null hypothesis,) variables are independent on the Target variable , so they will not explain variance of target variables, SO we need to remove all these variables from the datasetOR."
   ]
  },
  {
   "cell_type": "code",
   "execution_count": 98,
   "metadata": {},
   "outputs": [
    {
     "data": {
      "text/plain": [
       "(41838, 72)"
      ]
     },
     "execution_count": 98,
     "metadata": {},
     "output_type": "execute_result"
    }
   ],
   "source": [
    "datasetOR.shape"
   ]
  },
  {
   "cell_type": "code",
   "execution_count": 99,
   "metadata": {
    "collapsed": true
   },
   "outputs": [],
   "source": [
    "datasetOR = datasetOR.drop(colHavGreaterPVal, axis = 1)"
   ]
  },
  {
   "cell_type": "code",
   "execution_count": 100,
   "metadata": {},
   "outputs": [
    {
     "data": {
      "text/plain": [
       "(41838, 58)"
      ]
     },
     "execution_count": 100,
     "metadata": {},
     "output_type": "execute_result"
    }
   ],
   "source": [
    "datasetOR.shape"
   ]
  },
  {
   "cell_type": "code",
   "execution_count": 101,
   "metadata": {},
   "outputs": [
    {
     "data": {
      "text/plain": [
       "58"
      ]
     },
     "execution_count": 101,
     "metadata": {},
     "output_type": "execute_result"
    }
   ],
   "source": [
    "72-14"
   ]
  },
  {
   "cell_type": "markdown",
   "metadata": {},
   "source": [
    "Now we have removed all the un-necessary columns/ features."
   ]
  },
  {
   "cell_type": "markdown",
   "metadata": {},
   "source": [
    "# 8- Feature Scaling"
   ]
  },
  {
   "cell_type": "code",
   "execution_count": null,
   "metadata": {
    "collapsed": true
   },
   "outputs": [],
   "source": []
  }
 ],
 "metadata": {
  "kernelspec": {
   "display_name": "Python 3",
   "language": "python",
   "name": "python3"
  },
  "language_info": {
   "codemirror_mode": {
    "name": "ipython",
    "version": 3
   },
   "file_extension": ".py",
   "mimetype": "text/x-python",
   "name": "python",
   "nbconvert_exporter": "python",
   "pygments_lexer": "ipython3",
   "version": "3.6.3"
  }
 },
 "nbformat": 4,
 "nbformat_minor": 2
}
